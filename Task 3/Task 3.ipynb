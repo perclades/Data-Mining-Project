{
 "cells": [
  {
   "cell_type": "markdown",
   "metadata": {
    "colab_type": "text",
    "id": "2CV34UsON7Ic"
   },
   "source": [
    "# Data Mining Project - Week 3 - Dish Recognizer\n",
    "\n",
    "## Data Mining Specialization - Coursera / University of Illinois at Urbana-Champaign\n",
    "\n",
    "* Author: Toni Torrubia\n",
    "* Date: February, 2023"
   ]
  },
  {
   "cell_type": "markdown",
   "metadata": {
    "colab_type": "text",
    "id": "ioZUy0CcJxUk"
   },
   "source": [
    "### Description\n",
    "The goal of this task is to mine the data set to discover the common/popular dishes of a particular cuisine. Typically when you go to try a new cuisine, you don’t know beforehand the types of dishes that are available for that cuisine. For this task, we would like to identify the dishes that are available for a cuisine by building a dish recognizer.\n",
    "\n",
    "\n",
    "\n"
   ]
  },
  {
   "cell_type": "markdown",
   "metadata": {
    "colab_type": "text",
    "id": "mSFe8cB1gjNP"
   },
   "source": [
    "### Dataset setup"
   ]
  },
  {
   "cell_type": "code",
   "execution_count": 3,
   "metadata": {
    "colab": {
     "base_uri": "https://localhost:8080/",
     "height": 224
    },
    "colab_type": "code",
    "id": "5OEFFBil3T6o",
    "outputId": "7cfe1247-4c15-44e2-ed01-f0549190aaff"
   },
   "outputs": [
    {
     "name": "stdout",
     "output_type": "stream",
     "text": [
      "--2019-11-14 19:16:56--  https://d396qusza40orc.cloudfront.net/dataminingcapstone/YelpDataset/yelp_dataset.tar.gz\n",
      "Resolving d396qusza40orc.cloudfront.net (d396qusza40orc.cloudfront.net)... 13.35.112.101, 13.35.112.99, 13.35.112.147, ...\n",
      "Connecting to d396qusza40orc.cloudfront.net (d396qusza40orc.cloudfront.net)|13.35.112.101|:443... connected.\n",
      "HTTP request sent, awaiting response... 200 OK\n",
      "Length: 443445047 (423M) [application/x-gzip]\n",
      "Saving to: ‘yelp_dataset.tar.gz’\n",
      "\n",
      "yelp_dataset.tar.gz 100%[===================>] 422.90M  57.5MB/s    in 6.6s    \n",
      "\n",
      "2019-11-14 19:17:03 (64.1 MB/s) - ‘yelp_dataset.tar.gz’ saved [443445047/443445047]\n",
      "\n"
     ]
    }
   ],
   "source": [
    "! wget https://d396qusza40orc.cloudfront.net/dataminingcapstone/YelpDataset/yelp_dataset.tar.gz\n",
    "! tar xzf yelp_dataset.tar.gz"
   ]
  },
  {
   "cell_type": "code",
   "execution_count": 1,
   "metadata": {
    "colab": {
     "base_uri": "https://localhost:8080/",
     "height": 34
    },
    "colab_type": "code",
    "id": "X5FO7T0loooH",
    "outputId": "d7f8c12d-0dca-41ee-d966-ac7d38d82c9d"
   },
   "outputs": [
    {
     "name": "stdout",
     "output_type": "stream",
     "text": [
      "\u001b[?25l\r",
      "\u001b[K     |█▍                              | 10kB 18.9MB/s eta 0:00:01\r",
      "\u001b[K     |██▊                             | 20kB 1.8MB/s eta 0:00:01\r",
      "\u001b[K     |████▏                           | 30kB 2.6MB/s eta 0:00:01\r",
      "\u001b[K     |█████▌                          | 40kB 1.7MB/s eta 0:00:01\r",
      "\u001b[K     |██████▉                         | 51kB 2.1MB/s eta 0:00:01\r",
      "\u001b[K     |████████▎                       | 61kB 2.5MB/s eta 0:00:01\r",
      "\u001b[K     |█████████▋                      | 71kB 2.9MB/s eta 0:00:01\r",
      "\u001b[K     |███████████                     | 81kB 3.3MB/s eta 0:00:01\r",
      "\u001b[K     |████████████▍                   | 92kB 3.7MB/s eta 0:00:01\r",
      "\u001b[K     |█████████████▊                  | 102kB 2.8MB/s eta 0:00:01\r",
      "\u001b[K     |███████████████▏                | 112kB 2.8MB/s eta 0:00:01\r",
      "\u001b[K     |████████████████▌               | 122kB 2.8MB/s eta 0:00:01\r",
      "\u001b[K     |█████████████████▉              | 133kB 2.8MB/s eta 0:00:01\r",
      "\u001b[K     |███████████████████▎            | 143kB 2.8MB/s eta 0:00:01\r",
      "\u001b[K     |████████████████████▋           | 153kB 2.8MB/s eta 0:00:01\r",
      "\u001b[K     |██████████████████████          | 163kB 2.8MB/s eta 0:00:01\r",
      "\u001b[K     |███████████████████████▍        | 174kB 2.8MB/s eta 0:00:01\r",
      "\u001b[K     |████████████████████████▊       | 184kB 2.8MB/s eta 0:00:01\r",
      "\u001b[K     |██████████████████████████▏     | 194kB 2.8MB/s eta 0:00:01\r",
      "\u001b[K     |███████████████████████████▌    | 204kB 2.8MB/s eta 0:00:01\r",
      "\u001b[K     |████████████████████████████▉   | 215kB 2.8MB/s eta 0:00:01\r",
      "\u001b[K     |██████████████████████████████▎ | 225kB 2.8MB/s eta 0:00:01\r",
      "\u001b[K     |███████████████████████████████▋| 235kB 2.8MB/s eta 0:00:01\r",
      "\u001b[K     |████████████████████████████████| 245kB 2.8MB/s \n",
      "\u001b[?25h"
     ]
    }
   ],
   "source": [
    "! pip install unidecode -q"
   ]
  },
  {
   "cell_type": "code",
   "execution_count": 0,
   "metadata": {
    "colab": {},
    "colab_type": "code",
    "id": "ef4yMrGWnxa-"
   },
   "outputs": [],
   "source": [
    "import pandas as pd\n",
    "import numpy as np\n",
    "from unidecode import unidecode\n",
    "import re"
   ]
  },
  {
   "cell_type": "code",
   "execution_count": 0,
   "metadata": {
    "colab": {},
    "colab_type": "code",
    "id": "00L3IhONPp0I"
   },
   "outputs": [],
   "source": [
    "path2files=\"yelp_dataset_challenge_academic_dataset/\"\n",
    "path2business=path2files+\"yelp_academic_dataset_business.json\"\n",
    "path2reviews=path2files+\"yelp_academic_dataset_review.json\"\n",
    "\n",
    "df_bus = pd.read_json(path2business, lines=True).set_index('business_id')\n",
    "df_reviews = pd.read_json(path2reviews, lines = True).set_index('review_id')"
   ]
  },
  {
   "cell_type": "markdown",
   "metadata": {
    "colab_type": "text",
    "id": "HXtmVbC-UeBy"
   },
   "source": [
    "Filtering only Italian Restaurants"
   ]
  },
  {
   "cell_type": "code",
   "execution_count": 0,
   "metadata": {
    "colab": {},
    "colab_type": "code",
    "id": "_tlU1HSmTDVu"
   },
   "outputs": [],
   "source": [
    "df_bus = df_bus[df_bus.categories.apply(lambda x : 'Restaurants' in x and 'Italian' in x)]"
   ]
  },
  {
   "cell_type": "code",
   "execution_count": 7,
   "metadata": {
    "colab": {
     "base_uri": "https://localhost:8080/",
     "height": 595
    },
    "colab_type": "code",
    "id": "XZyMLeRhbpG3",
    "outputId": "3318a8dd-0ad7-47a1-f621-490614350e45"
   },
   "outputs": [
    {
     "data": {
      "text/html": [
       "<div>\n",
       "<style scoped>\n",
       "    .dataframe tbody tr th:only-of-type {\n",
       "        vertical-align: middle;\n",
       "    }\n",
       "\n",
       "    .dataframe tbody tr th {\n",
       "        vertical-align: top;\n",
       "    }\n",
       "\n",
       "    .dataframe thead th {\n",
       "        text-align: right;\n",
       "    }\n",
       "</style>\n",
       "<table border=\"1\" class=\"dataframe\">\n",
       "  <thead>\n",
       "    <tr style=\"text-align: right;\">\n",
       "      <th></th>\n",
       "      <th>full_address</th>\n",
       "      <th>hours</th>\n",
       "      <th>open</th>\n",
       "      <th>categories</th>\n",
       "      <th>city</th>\n",
       "      <th>review_count</th>\n",
       "      <th>name</th>\n",
       "      <th>neighborhoods</th>\n",
       "      <th>longitude</th>\n",
       "      <th>state</th>\n",
       "      <th>stars</th>\n",
       "      <th>latitude</th>\n",
       "      <th>attributes</th>\n",
       "      <th>type</th>\n",
       "    </tr>\n",
       "    <tr>\n",
       "      <th>business_id</th>\n",
       "      <th></th>\n",
       "      <th></th>\n",
       "      <th></th>\n",
       "      <th></th>\n",
       "      <th></th>\n",
       "      <th></th>\n",
       "      <th></th>\n",
       "      <th></th>\n",
       "      <th></th>\n",
       "      <th></th>\n",
       "      <th></th>\n",
       "      <th></th>\n",
       "      <th></th>\n",
       "      <th></th>\n",
       "    </tr>\n",
       "  </thead>\n",
       "  <tbody>\n",
       "    <tr>\n",
       "      <th>q8fD82us6uuGufvI44NoAg</th>\n",
       "      <td>7462 Hubbard Ave\\nMiddleton, WI 53562</td>\n",
       "      <td>{'Monday': {'close': '21:00', 'open': '17:00'}...</td>\n",
       "      <td>True</td>\n",
       "      <td>[Restaurants, Italian]</td>\n",
       "      <td>Middleton</td>\n",
       "      <td>53</td>\n",
       "      <td>Vin Santo</td>\n",
       "      <td>[]</td>\n",
       "      <td>-89.510966</td>\n",
       "      <td>WI</td>\n",
       "      <td>4.0</td>\n",
       "      <td>43.095542</td>\n",
       "      <td>{'Take-out': True, 'Wi-Fi': 'no', 'Good For': ...</td>\n",
       "      <td>business</td>\n",
       "    </tr>\n",
       "    <tr>\n",
       "      <th>ybkWtM1ZnT2ewuquj3A9KQ</th>\n",
       "      <td>1849 Northport Dr\\nSherman\\nMadison, WI 53704</td>\n",
       "      <td>{'Monday': {'close': '22:00', 'open': '11:00'}...</td>\n",
       "      <td>True</td>\n",
       "      <td>[Restaurants, Italian]</td>\n",
       "      <td>Madison</td>\n",
       "      <td>22</td>\n",
       "      <td>Benvenuto's Italian Grill</td>\n",
       "      <td>[Sherman]</td>\n",
       "      <td>-89.360971</td>\n",
       "      <td>WI</td>\n",
       "      <td>3.0</td>\n",
       "      <td>43.129670</td>\n",
       "      <td>{'Take-out': True, 'Wi-Fi': 'free', 'Good For'...</td>\n",
       "      <td>business</td>\n",
       "    </tr>\n",
       "    <tr>\n",
       "      <th>PhdMPqSdLZi6IV8SdnpUAQ</th>\n",
       "      <td>4320 E Towne Blvd\\nMadison, WI 53704</td>\n",
       "      <td>{'Monday': {'close': '22:00', 'open': '11:00'}...</td>\n",
       "      <td>True</td>\n",
       "      <td>[Restaurants, Italian]</td>\n",
       "      <td>Madison</td>\n",
       "      <td>11</td>\n",
       "      <td>Olive Garden Italian Restaurant</td>\n",
       "      <td>[]</td>\n",
       "      <td>-89.309419</td>\n",
       "      <td>WI</td>\n",
       "      <td>3.5</td>\n",
       "      <td>43.126269</td>\n",
       "      <td>{'Take-out': True, 'Good For': {'dessert': Fal...</td>\n",
       "      <td>business</td>\n",
       "    </tr>\n",
       "    <tr>\n",
       "      <th>Hld3cjWyfPpW5hDcgXfNQA</th>\n",
       "      <td>5801 Monona Dr\\nMonona, WI 53716</td>\n",
       "      <td>{'Monday': {'close': '20:30', 'open': '16:00'}...</td>\n",
       "      <td>True</td>\n",
       "      <td>[Restaurants, Pizza, Italian]</td>\n",
       "      <td>Monona</td>\n",
       "      <td>19</td>\n",
       "      <td>Angelo's</td>\n",
       "      <td>[]</td>\n",
       "      <td>-89.326138</td>\n",
       "      <td>WI</td>\n",
       "      <td>3.5</td>\n",
       "      <td>43.056732</td>\n",
       "      <td>{'Take-out': True, 'Good For': {'dessert': Fal...</td>\n",
       "      <td>business</td>\n",
       "    </tr>\n",
       "    <tr>\n",
       "      <th>ki33_SvM4kPjgA44Re8-zQ</th>\n",
       "      <td>108 Owen Rd\\nMonona, WI 53716</td>\n",
       "      <td>{'Monday': {'close': '18:00', 'open': '09:00'}...</td>\n",
       "      <td>True</td>\n",
       "      <td>[Delis, Restaurants, Italian]</td>\n",
       "      <td>Monona</td>\n",
       "      <td>7</td>\n",
       "      <td>Fraboni's Italian Specialties &amp; Delicatessen</td>\n",
       "      <td>[]</td>\n",
       "      <td>-89.326717</td>\n",
       "      <td>WI</td>\n",
       "      <td>4.5</td>\n",
       "      <td>43.056621</td>\n",
       "      <td>{'Take-out': True, 'Good For': {'dessert': Fal...</td>\n",
       "      <td>business</td>\n",
       "    </tr>\n",
       "  </tbody>\n",
       "</table>\n",
       "</div>"
      ],
      "text/plain": [
       "                                                         full_address  ...      type\n",
       "business_id                                                            ...          \n",
       "q8fD82us6uuGufvI44NoAg          7462 Hubbard Ave\\nMiddleton, WI 53562  ...  business\n",
       "ybkWtM1ZnT2ewuquj3A9KQ  1849 Northport Dr\\nSherman\\nMadison, WI 53704  ...  business\n",
       "PhdMPqSdLZi6IV8SdnpUAQ           4320 E Towne Blvd\\nMadison, WI 53704  ...  business\n",
       "Hld3cjWyfPpW5hDcgXfNQA               5801 Monona Dr\\nMonona, WI 53716  ...  business\n",
       "ki33_SvM4kPjgA44Re8-zQ                  108 Owen Rd\\nMonona, WI 53716  ...  business\n",
       "\n",
       "[5 rows x 14 columns]"
      ]
     },
     "execution_count": 7,
     "metadata": {
      "tags": []
     },
     "output_type": "execute_result"
    }
   ],
   "source": [
    "df_bus.head()"
   ]
  },
  {
   "cell_type": "code",
   "execution_count": 0,
   "metadata": {
    "colab": {},
    "colab_type": "code",
    "id": "YTnB2E2oXtqe"
   },
   "outputs": [],
   "source": [
    "df = df_reviews.merge(df_bus, on = 'business_id')"
   ]
  },
  {
   "cell_type": "code",
   "execution_count": 9,
   "metadata": {
    "colab": {
     "base_uri": "https://localhost:8080/",
     "height": 717
    },
    "colab_type": "code",
    "id": "xKmMmD0yGsz_",
    "outputId": "9e0c5ceb-db9d-4145-c105-d5b540385a9d"
   },
   "outputs": [
    {
     "data": {
      "text/html": [
       "<div>\n",
       "<style scoped>\n",
       "    .dataframe tbody tr th:only-of-type {\n",
       "        vertical-align: middle;\n",
       "    }\n",
       "\n",
       "    .dataframe tbody tr th {\n",
       "        vertical-align: top;\n",
       "    }\n",
       "\n",
       "    .dataframe thead th {\n",
       "        text-align: right;\n",
       "    }\n",
       "</style>\n",
       "<table border=\"1\" class=\"dataframe\">\n",
       "  <thead>\n",
       "    <tr style=\"text-align: right;\">\n",
       "      <th></th>\n",
       "      <th>votes</th>\n",
       "      <th>user_id</th>\n",
       "      <th>stars_x</th>\n",
       "      <th>date</th>\n",
       "      <th>text</th>\n",
       "      <th>type_x</th>\n",
       "      <th>business_id</th>\n",
       "      <th>full_address</th>\n",
       "      <th>hours</th>\n",
       "      <th>open</th>\n",
       "      <th>categories</th>\n",
       "      <th>city</th>\n",
       "      <th>review_count</th>\n",
       "      <th>name</th>\n",
       "      <th>neighborhoods</th>\n",
       "      <th>longitude</th>\n",
       "      <th>state</th>\n",
       "      <th>stars_y</th>\n",
       "      <th>latitude</th>\n",
       "      <th>attributes</th>\n",
       "      <th>type_y</th>\n",
       "    </tr>\n",
       "  </thead>\n",
       "  <tbody>\n",
       "    <tr>\n",
       "      <th>0</th>\n",
       "      <td>{'funny': 0, 'useful': 0, 'cool': 0}</td>\n",
       "      <td>z0mglEImg4_jWiIRp-M-0g</td>\n",
       "      <td>5</td>\n",
       "      <td>2008-02-15</td>\n",
       "      <td>The best Italian food in town, hands down.  Th...</td>\n",
       "      <td>review</td>\n",
       "      <td>q8fD82us6uuGufvI44NoAg</td>\n",
       "      <td>7462 Hubbard Ave\\nMiddleton, WI 53562</td>\n",
       "      <td>{'Monday': {'close': '21:00', 'open': '17:00'}...</td>\n",
       "      <td>True</td>\n",
       "      <td>[Restaurants, Italian]</td>\n",
       "      <td>Middleton</td>\n",
       "      <td>53</td>\n",
       "      <td>Vin Santo</td>\n",
       "      <td>[]</td>\n",
       "      <td>-89.510966</td>\n",
       "      <td>WI</td>\n",
       "      <td>4.0</td>\n",
       "      <td>43.095542</td>\n",
       "      <td>{'Take-out': True, 'Wi-Fi': 'no', 'Good For': ...</td>\n",
       "      <td>business</td>\n",
       "    </tr>\n",
       "    <tr>\n",
       "      <th>1</th>\n",
       "      <td>{'funny': 0, 'useful': 0, 'cool': 0}</td>\n",
       "      <td>vBG8yRp-mpIIH03YWKJ6Cg</td>\n",
       "      <td>5</td>\n",
       "      <td>2008-10-05</td>\n",
       "      <td>I always crave Vin Santo, even though I haven'...</td>\n",
       "      <td>review</td>\n",
       "      <td>q8fD82us6uuGufvI44NoAg</td>\n",
       "      <td>7462 Hubbard Ave\\nMiddleton, WI 53562</td>\n",
       "      <td>{'Monday': {'close': '21:00', 'open': '17:00'}...</td>\n",
       "      <td>True</td>\n",
       "      <td>[Restaurants, Italian]</td>\n",
       "      <td>Middleton</td>\n",
       "      <td>53</td>\n",
       "      <td>Vin Santo</td>\n",
       "      <td>[]</td>\n",
       "      <td>-89.510966</td>\n",
       "      <td>WI</td>\n",
       "      <td>4.0</td>\n",
       "      <td>43.095542</td>\n",
       "      <td>{'Take-out': True, 'Wi-Fi': 'no', 'Good For': ...</td>\n",
       "      <td>business</td>\n",
       "    </tr>\n",
       "    <tr>\n",
       "      <th>2</th>\n",
       "      <td>{'funny': 0, 'useful': 1, 'cool': 0}</td>\n",
       "      <td>zxRhpU-ATbWKcDLEsFfT0A</td>\n",
       "      <td>5</td>\n",
       "      <td>2008-10-13</td>\n",
       "      <td>Vin Santo rules!  \\n\\nThis is a great casual r...</td>\n",
       "      <td>review</td>\n",
       "      <td>q8fD82us6uuGufvI44NoAg</td>\n",
       "      <td>7462 Hubbard Ave\\nMiddleton, WI 53562</td>\n",
       "      <td>{'Monday': {'close': '21:00', 'open': '17:00'}...</td>\n",
       "      <td>True</td>\n",
       "      <td>[Restaurants, Italian]</td>\n",
       "      <td>Middleton</td>\n",
       "      <td>53</td>\n",
       "      <td>Vin Santo</td>\n",
       "      <td>[]</td>\n",
       "      <td>-89.510966</td>\n",
       "      <td>WI</td>\n",
       "      <td>4.0</td>\n",
       "      <td>43.095542</td>\n",
       "      <td>{'Take-out': True, 'Wi-Fi': 'no', 'Good For': ...</td>\n",
       "      <td>business</td>\n",
       "    </tr>\n",
       "    <tr>\n",
       "      <th>3</th>\n",
       "      <td>{'funny': 0, 'useful': 2, 'cool': 0}</td>\n",
       "      <td>q5iAT3rQAiF1OsMmLKgQQA</td>\n",
       "      <td>5</td>\n",
       "      <td>2008-10-21</td>\n",
       "      <td>This is easily the best Italian food in the Ma...</td>\n",
       "      <td>review</td>\n",
       "      <td>q8fD82us6uuGufvI44NoAg</td>\n",
       "      <td>7462 Hubbard Ave\\nMiddleton, WI 53562</td>\n",
       "      <td>{'Monday': {'close': '21:00', 'open': '17:00'}...</td>\n",
       "      <td>True</td>\n",
       "      <td>[Restaurants, Italian]</td>\n",
       "      <td>Middleton</td>\n",
       "      <td>53</td>\n",
       "      <td>Vin Santo</td>\n",
       "      <td>[]</td>\n",
       "      <td>-89.510966</td>\n",
       "      <td>WI</td>\n",
       "      <td>4.0</td>\n",
       "      <td>43.095542</td>\n",
       "      <td>{'Take-out': True, 'Wi-Fi': 'no', 'Good For': ...</td>\n",
       "      <td>business</td>\n",
       "    </tr>\n",
       "    <tr>\n",
       "      <th>4</th>\n",
       "      <td>{'funny': 0, 'useful': 2, 'cool': 0}</td>\n",
       "      <td>no9odAfwocTruGYGNUVcIg</td>\n",
       "      <td>4</td>\n",
       "      <td>2008-12-02</td>\n",
       "      <td>try their appetizer of steamed mussels and the...</td>\n",
       "      <td>review</td>\n",
       "      <td>q8fD82us6uuGufvI44NoAg</td>\n",
       "      <td>7462 Hubbard Ave\\nMiddleton, WI 53562</td>\n",
       "      <td>{'Monday': {'close': '21:00', 'open': '17:00'}...</td>\n",
       "      <td>True</td>\n",
       "      <td>[Restaurants, Italian]</td>\n",
       "      <td>Middleton</td>\n",
       "      <td>53</td>\n",
       "      <td>Vin Santo</td>\n",
       "      <td>[]</td>\n",
       "      <td>-89.510966</td>\n",
       "      <td>WI</td>\n",
       "      <td>4.0</td>\n",
       "      <td>43.095542</td>\n",
       "      <td>{'Take-out': True, 'Wi-Fi': 'no', 'Good For': ...</td>\n",
       "      <td>business</td>\n",
       "    </tr>\n",
       "  </tbody>\n",
       "</table>\n",
       "</div>"
      ],
      "text/plain": [
       "                                  votes  ...    type_y\n",
       "0  {'funny': 0, 'useful': 0, 'cool': 0}  ...  business\n",
       "1  {'funny': 0, 'useful': 0, 'cool': 0}  ...  business\n",
       "2  {'funny': 0, 'useful': 1, 'cool': 0}  ...  business\n",
       "3  {'funny': 0, 'useful': 2, 'cool': 0}  ...  business\n",
       "4  {'funny': 0, 'useful': 2, 'cool': 0}  ...  business\n",
       "\n",
       "[5 rows x 21 columns]"
      ]
     },
     "execution_count": 9,
     "metadata": {
      "tags": []
     },
     "output_type": "execute_result"
    }
   ],
   "source": [
    "df.head()"
   ]
  },
  {
   "cell_type": "code",
   "execution_count": 0,
   "metadata": {
    "colab": {},
    "colab_type": "code",
    "id": "_Ac4tbIkqnE2"
   },
   "outputs": [],
   "source": [
    "def preprocess(text):\n",
    "    # Remove accents\n",
    "    text = unidecode(text)\n",
    "    # Remove line breaks and tab\n",
    "    text = re.sub(r'[\\t\\n\\r]', ' ', text)\n",
    "    # Remove http links\n",
    "    text = re.sub(r'http\\S+', ' ', text)\n",
    "    # Remove leading and trailing spaces\n",
    "    text = text.strip()\n",
    "    return text"
   ]
  },
  {
   "cell_type": "code",
   "execution_count": 0,
   "metadata": {
    "colab": {},
    "colab_type": "code",
    "id": "92QahoR4nYIl"
   },
   "outputs": [],
   "source": [
    "df.text_processed = df.text.apply(lambda x : preprocess(x))"
   ]
  },
  {
   "cell_type": "markdown",
   "metadata": {
    "colab_type": "text",
    "id": "Rf1UR6dkcQrt"
   },
   "source": [
    "### Task 3.1: Manual Tagging\n",
    "\n",
    "Manual step to improve Italian.label text file."
   ]
  },
  {
   "cell_type": "markdown",
   "metadata": {
    "colab_type": "text",
    "id": "DcdDUdM5gf5V"
   },
   "source": [
    "### Task 3.2: Mining Additional Dish Names\n",
    "\n",
    "Once you have a list of dish names, it is likely that many dish names are still missing. In this step, you would expand the list of dishes by using other pattern mining techniques and/or word association methods."
   ]
  },
  {
   "cell_type": "code",
   "execution_count": 0,
   "metadata": {
    "colab": {},
    "colab_type": "code",
    "id": "Mu17faZ1dcNJ"
   },
   "outputs": [],
   "source": [
    "# exporting dataset in AutoPhrase format\n",
    "\n",
    "np.savetxt('yelp-italian-reviews.txt', df.text_processed.values, fmt='%s\\n.')"
   ]
  },
  {
   "cell_type": "code",
   "execution_count": 31,
   "metadata": {
    "colab": {
     "base_uri": "https://localhost:8080/",
     "height": 34
    },
    "colab_type": "code",
    "id": "8C0rX6xZgri7",
    "outputId": "3663a78d-48c4-4931-a740-9783d8797abc"
   },
   "outputs": [
    {
     "name": "stdout",
     "output_type": "stream",
     "text": [
      "  adding: yelp-italian-reviews.txt (deflated 63%)\n"
     ]
    }
   ],
   "source": [
    "! zip yelp-italian-reviews.zip yelp-italian-reviews.txt"
   ]
  },
  {
   "cell_type": "code",
   "execution_count": 4,
   "metadata": {
    "colab": {
     "base_uri": "https://localhost:8080/",
     "height": 224
    },
    "colab_type": "code",
    "id": "X8-GDPSbhnY_",
    "outputId": "b8d99050-3dd1-41b0-e296-aa6a1ebd3b17"
   },
   "outputs": [
    {
     "name": "stdout",
     "output_type": "stream",
     "text": [
      "--2019-11-14 19:17:18--  https://raw.githubusercontent.com/michaelonishi/coursera-data-mining-specialization/master/c6-data-mining-project/task3/Italian.label\n",
      "Resolving raw.githubusercontent.com (raw.githubusercontent.com)... 151.101.0.133, 151.101.64.133, 151.101.128.133, ...\n",
      "Connecting to raw.githubusercontent.com (raw.githubusercontent.com)|151.101.0.133|:443... connected.\n",
      "HTTP request sent, awaiting response... 200 OK\n",
      "Length: 7958 (7.8K) [text/plain]\n",
      "Saving to: ‘Italian.label’\n",
      "\n",
      "Italian.label       100%[===================>]   7.77K  --.-KB/s    in 0s      \n",
      "\n",
      "2019-11-14 19:17:20 (96.6 MB/s) - ‘Italian.label’ saved [7958/7958]\n",
      "\n"
     ]
    }
   ],
   "source": [
    "! wget https://raw.githubusercontent.com/michaelonishi/coursera-data-mining-specialization/master/c6-data-mining-project/task3/Italian.label"
   ]
  },
  {
   "cell_type": "code",
   "execution_count": 0,
   "metadata": {
    "colab": {},
    "colab_type": "code",
    "id": "3XhKcoAAhqyQ"
   },
   "outputs": [],
   "source": [
    "labels_df = pd.read_csv('Italian.label', sep = '\\t', header=None, names = ['phrase', 'label'])"
   ]
  },
  {
   "cell_type": "code",
   "execution_count": 0,
   "metadata": {
    "colab": {},
    "colab_type": "code",
    "id": "5-tFzQp_jdCg"
   },
   "outputs": [],
   "source": [
    "np.savetxt('yelp-positive-labels.txt', labels_df[labels_df.label == 1].phrase.values, fmt='%s')"
   ]
  },
  {
   "cell_type": "markdown",
   "metadata": {
    "colab_type": "text",
    "id": "MtjOuoR_c1Gl"
   },
   "source": [
    "After running AutoPhrase pointing RAW_TRAIN to yelp-italian-reviews.txt file and using the yelp-positive-labels.txt as quality text file, replacing wiki_quality.txt, I got the file named AutoPhrase.txt, that will be shown below."
   ]
  },
  {
   "cell_type": "code",
   "execution_count": 0,
   "metadata": {
    "colab": {},
    "colab_type": "code",
    "id": "FCfBc5f-dgZr"
   },
   "outputs": [],
   "source": [
    "new_df = pd.read_csv('AutoPhrase.txt', sep = '\\t', header=None, names = ['score', 'phrase'])"
   ]
  },
  {
   "cell_type": "code",
   "execution_count": 0,
   "metadata": {
    "colab": {},
    "colab_type": "code",
    "id": "Bv4G2iPadwIG"
   },
   "outputs": [],
   "source": [
    "new_df = new_df[new_df.score > 0.95]"
   ]
  },
  {
   "cell_type": "code",
   "execution_count": 23,
   "metadata": {
    "colab": {
     "base_uri": "https://localhost:8080/",
     "height": 204
    },
    "colab_type": "code",
    "id": "Cg3E2G4QeuL5",
    "outputId": "73903a1a-0b2f-4963-a4cc-7b701d365cd7"
   },
   "outputs": [
    {
     "data": {
      "text/html": [
       "<div>\n",
       "<style scoped>\n",
       "    .dataframe tbody tr th:only-of-type {\n",
       "        vertical-align: middle;\n",
       "    }\n",
       "\n",
       "    .dataframe tbody tr th {\n",
       "        vertical-align: top;\n",
       "    }\n",
       "\n",
       "    .dataframe thead th {\n",
       "        text-align: right;\n",
       "    }\n",
       "</style>\n",
       "<table border=\"1\" class=\"dataframe\">\n",
       "  <thead>\n",
       "    <tr style=\"text-align: right;\">\n",
       "      <th></th>\n",
       "      <th>score</th>\n",
       "      <th>phrase</th>\n",
       "    </tr>\n",
       "  </thead>\n",
       "  <tbody>\n",
       "    <tr>\n",
       "      <th>0</th>\n",
       "      <td>0.998000</td>\n",
       "      <td>lobster</td>\n",
       "    </tr>\n",
       "    <tr>\n",
       "      <th>1</th>\n",
       "      <td>0.995808</td>\n",
       "      <td>clam chowder</td>\n",
       "    </tr>\n",
       "    <tr>\n",
       "      <th>2</th>\n",
       "      <td>0.995393</td>\n",
       "      <td>eggs benedict</td>\n",
       "    </tr>\n",
       "    <tr>\n",
       "      <th>3</th>\n",
       "      <td>0.995303</td>\n",
       "      <td>pork belly</td>\n",
       "    </tr>\n",
       "    <tr>\n",
       "      <th>4</th>\n",
       "      <td>0.995087</td>\n",
       "      <td>lamb chops</td>\n",
       "    </tr>\n",
       "  </tbody>\n",
       "</table>\n",
       "</div>"
      ],
      "text/plain": [
       "      score         phrase\n",
       "0  0.998000        lobster\n",
       "1  0.995808   clam chowder\n",
       "2  0.995393  eggs benedict\n",
       "3  0.995303     pork belly\n",
       "4  0.995087     lamb chops"
      ]
     },
     "execution_count": 23,
     "metadata": {
      "tags": []
     },
     "output_type": "execute_result"
    }
   ],
   "source": [
    "new_df.head()"
   ]
  },
  {
   "cell_type": "code",
   "execution_count": 0,
   "metadata": {
    "colab": {},
    "colab_type": "code",
    "id": "YY6lHU1Qdw09"
   },
   "outputs": [],
   "source": [
    "# getting only phrases not already present in the revised labels file\n",
    "new_df = new_df[new_df.phrase.apply(lambda x : x not in labels_df.phrase.to_list())]"
   ]
  },
  {
   "cell_type": "code",
   "execution_count": 29,
   "metadata": {
    "colab": {
     "base_uri": "https://localhost:8080/",
     "height": 419
    },
    "colab_type": "code",
    "id": "Jd1GS0A6fhQA",
    "outputId": "198f1872-b1e3-4bac-fcb6-f29ef4e6ce76"
   },
   "outputs": [
    {
     "data": {
      "text/html": [
       "<div>\n",
       "<style scoped>\n",
       "    .dataframe tbody tr th:only-of-type {\n",
       "        vertical-align: middle;\n",
       "    }\n",
       "\n",
       "    .dataframe tbody tr th {\n",
       "        vertical-align: top;\n",
       "    }\n",
       "\n",
       "    .dataframe thead th {\n",
       "        text-align: right;\n",
       "    }\n",
       "</style>\n",
       "<table border=\"1\" class=\"dataframe\">\n",
       "  <thead>\n",
       "    <tr style=\"text-align: right;\">\n",
       "      <th></th>\n",
       "      <th>score</th>\n",
       "      <th>phrase</th>\n",
       "    </tr>\n",
       "  </thead>\n",
       "  <tbody>\n",
       "    <tr>\n",
       "      <th>6</th>\n",
       "      <td>0.994188</td>\n",
       "      <td>shrimp</td>\n",
       "    </tr>\n",
       "    <tr>\n",
       "      <th>7</th>\n",
       "      <td>0.994000</td>\n",
       "      <td>pizza</td>\n",
       "    </tr>\n",
       "    <tr>\n",
       "      <th>13</th>\n",
       "      <td>0.993000</td>\n",
       "      <td>steak</td>\n",
       "    </tr>\n",
       "    <tr>\n",
       "      <th>14</th>\n",
       "      <td>0.993000</td>\n",
       "      <td>bruschetta</td>\n",
       "    </tr>\n",
       "    <tr>\n",
       "      <th>16</th>\n",
       "      <td>0.992000</td>\n",
       "      <td>gnocchi</td>\n",
       "    </tr>\n",
       "    <tr>\n",
       "      <th>...</th>\n",
       "      <td>...</td>\n",
       "      <td>...</td>\n",
       "    </tr>\n",
       "    <tr>\n",
       "      <th>479</th>\n",
       "      <td>0.950586</td>\n",
       "      <td>hell's kitchen</td>\n",
       "    </tr>\n",
       "    <tr>\n",
       "      <th>480</th>\n",
       "      <td>0.950187</td>\n",
       "      <td>ago</td>\n",
       "    </tr>\n",
       "    <tr>\n",
       "      <th>481</th>\n",
       "      <td>0.950119</td>\n",
       "      <td>caesar's palace</td>\n",
       "    </tr>\n",
       "    <tr>\n",
       "      <th>482</th>\n",
       "      <td>0.950077</td>\n",
       "      <td>balsamic</td>\n",
       "    </tr>\n",
       "    <tr>\n",
       "      <th>483</th>\n",
       "      <td>0.950030</td>\n",
       "      <td>tuna</td>\n",
       "    </tr>\n",
       "  </tbody>\n",
       "</table>\n",
       "<p>404 rows × 2 columns</p>\n",
       "</div>"
      ],
      "text/plain": [
       "        score           phrase\n",
       "6    0.994188           shrimp\n",
       "7    0.994000            pizza\n",
       "13   0.993000            steak\n",
       "14   0.993000       bruschetta\n",
       "16   0.992000          gnocchi\n",
       "..        ...              ...\n",
       "479  0.950586   hell's kitchen\n",
       "480  0.950187              ago\n",
       "481  0.950119  caesar's palace\n",
       "482  0.950077         balsamic\n",
       "483  0.950030             tuna\n",
       "\n",
       "[404 rows x 2 columns]"
      ]
     },
     "execution_count": 29,
     "metadata": {
      "tags": []
     },
     "output_type": "execute_result"
    }
   ],
   "source": [
    "new_df"
   ]
  },
  {
   "cell_type": "code",
   "execution_count": 0,
   "metadata": {
    "colab": {},
    "colab_type": "code",
    "id": "OuopzNJwe8sh"
   },
   "outputs": [],
   "source": [
    "np.savetxt('new_phrases.txt', new_df.phrase.values, fmt='%s')"
   ]
  },
  {
   "cell_type": "code",
   "execution_count": 0,
   "metadata": {
    "colab": {},
    "colab_type": "code",
    "id": "sXp2Dy38r1tt"
   },
   "outputs": [],
   "source": []
  }
 ],
 "metadata": {
  "colab": {
   "collapsed_sections": [],
   "name": "Data_Mining_Project_Week_3_Dish_Recognizer.ipynb",
   "provenance": [],
   "toc_visible": true
  },
  "kernelspec": {
   "display_name": "Python 3 (ipykernel)",
   "language": "python",
   "name": "python3"
  },
  "language_info": {
   "codemirror_mode": {
    "name": "ipython",
    "version": 3
   },
   "file_extension": ".py",
   "mimetype": "text/x-python",
   "name": "python",
   "nbconvert_exporter": "python",
   "pygments_lexer": "ipython3",
   "version": "3.9.16"
  }
 },
 "nbformat": 4,
 "nbformat_minor": 1
}
